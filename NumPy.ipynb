{
 "metadata": {
  "language_info": {
   "codemirror_mode": {
    "name": "ipython",
    "version": 3
   },
   "file_extension": ".py",
   "mimetype": "text/x-python",
   "name": "python",
   "nbconvert_exporter": "python",
   "pygments_lexer": "ipython3",
   "version": "3.9.1-final"
  },
  "orig_nbformat": 2,
  "kernelspec": {
   "name": "python3",
   "display_name": "Python 3.9.1 64-bit",
   "metadata": {
    "interpreter": {
     "hash": "336dbeefbbfec705ba872c6f18935ad34da48993192f6f236bac6ca2e275c1f0"
    }
   }
  }
 },
 "nbformat": 4,
 "nbformat_minor": 2,
 "cells": [
  {
   "source": [
    "# NumPy\n",
    "\n",
    "Element Wise Properties"
   ],
   "cell_type": "markdown",
   "metadata": {}
  },
  {
   "cell_type": "code",
   "execution_count": 1,
   "metadata": {},
   "outputs": [],
   "source": [
    "import numpy as np"
   ]
  },
  {
   "cell_type": "code",
   "execution_count": 2,
   "metadata": {},
   "outputs": [
    {
     "output_type": "stream",
     "name": "stdout",
     "text": [
      "Array a : [1 2 3]\nArray b : \n[[1 2 3]\n [4 5 6]]\n"
     ]
    }
   ],
   "source": [
    "a = np.array([1,2,3])\n",
    "b = np.array([[1,2,3],[4,5,6]])\n",
    "print(f'Array a : {a}')\n",
    "print(f'Array b : \\n{b}')"
   ]
  },
  {
   "source": [
    "Mathematical Computation takes place with Each Element within an Array"
   ],
   "cell_type": "markdown",
   "metadata": {}
  },
  {
   "cell_type": "code",
   "execution_count": 3,
   "metadata": {},
   "outputs": [
    {
     "output_type": "stream",
     "name": "stdout",
     "text": [
      "[3 4 5]\n"
     ]
    }
   ],
   "source": [
    "print(a + 2) # Adding 2 to 1D Array"
   ]
  },
  {
   "cell_type": "code",
   "execution_count": 4,
   "metadata": {},
   "outputs": [
    {
     "output_type": "stream",
     "name": "stdout",
     "text": [
      "[[3 4 5]\n [6 7 8]]\n"
     ]
    }
   ],
   "source": [
    "print(b + 2) # Adding 2 to 2D Array"
   ]
  },
  {
   "cell_type": "code",
   "execution_count": 5,
   "metadata": {},
   "outputs": [
    {
     "output_type": "stream",
     "name": "stdout",
     "text": [
      "[[2 4 6]\n [5 7 9]]\n"
     ]
    }
   ],
   "source": [
    "print(a + b)  # Broadcasting"
   ]
  },
  {
   "cell_type": "code",
   "execution_count": 6,
   "metadata": {},
   "outputs": [
    {
     "output_type": "stream",
     "name": "stdout",
     "text": [
      "[2 4 6]\n"
     ]
    }
   ],
   "source": [
    "print(a + b[0]) # Element Wise Addition takes place."
   ]
  },
  {
   "cell_type": "code",
   "execution_count": 7,
   "metadata": {},
   "outputs": [
    {
     "output_type": "stream",
     "name": "stdout",
     "text": [
      "[1. 2. 3.]\n"
     ]
    }
   ],
   "source": [
    "a = np.array([1,2,3], dtype=\"float\")\n",
    "print(a)"
   ]
  },
  {
   "source": [
    "# Float"
   ],
   "cell_type": "markdown",
   "metadata": {}
  },
  {
   "cell_type": "code",
   "execution_count": 8,
   "metadata": {},
   "outputs": [
    {
     "output_type": "stream",
     "name": "stdout",
     "text": [
      "[[1. 2. 3.]\n [4. 5. 6.]]\n"
     ]
    }
   ],
   "source": [
    "float_array = np.array([[1,2,3],[4,5,6]], dtype=np.float)\n",
    "print(float_array)"
   ]
  },
  {
   "source": [
    "# Complex"
   ],
   "cell_type": "markdown",
   "metadata": {}
  },
  {
   "cell_type": "code",
   "execution_count": 9,
   "metadata": {},
   "outputs": [
    {
     "output_type": "stream",
     "name": "stdout",
     "text": [
      "[[1.+0.j 2.+0.j 3.+0.j]\n [4.+0.j 5.+0.j 6.+0.j]]\n"
     ]
    }
   ],
   "source": [
    "complex_array = np.array([[1,2,3],[4,5,6]], dtype=np.complex)\n",
    "print(complex_array)"
   ]
  },
  {
   "source": [
    "# Boolean"
   ],
   "cell_type": "markdown",
   "metadata": {}
  },
  {
   "cell_type": "code",
   "execution_count": 10,
   "metadata": {},
   "outputs": [
    {
     "output_type": "stream",
     "name": "stdout",
     "text": [
      "[[ True False  True]\n [ True  True False]]\n"
     ]
    }
   ],
   "source": [
    "bool_array = np.array([[1,0,1],[-1,1,0]], dtype=np.bool)\n",
    "print(bool_array)"
   ]
  },
  {
   "source": [
    "# String"
   ],
   "cell_type": "markdown",
   "metadata": {}
  },
  {
   "cell_type": "code",
   "execution_count": 11,
   "metadata": {},
   "outputs": [
    {
     "output_type": "stream",
     "name": "stdout",
     "text": [
      "[['1' '2' '3']\n ['4' '5' '6']]\n\n<U1 : Unicode Value of Length upto 1\n"
     ]
    }
   ],
   "source": [
    "str_array = np.array([[1,2,3],[4,5,6]], dtype=np.str)\n",
    "print(str_array)\n",
    "print(f'\\n{str_array.dtype} : Unicode Value of Length upto 1')"
   ]
  },
  {
   "source": [
    "# Squareroot"
   ],
   "cell_type": "markdown",
   "metadata": {}
  },
  {
   "cell_type": "code",
   "execution_count": 12,
   "metadata": {},
   "outputs": [
    {
     "output_type": "stream",
     "name": "stdout",
     "text": [
      "[[1.         1.41421356 1.73205081]\n [2.         2.23606798 2.44948974]]\n"
     ]
    }
   ],
   "source": [
    "print(np.sqrt(float_array)) # Elementwise Squareroot"
   ]
  },
  {
   "source": [
    "# Characteristics of NumPy Functions\n",
    "\n",
    "[NumPy Universal Functions](https://numpy.org/doc/stable/reference/ufuncs.html)\n",
    "\n",
    "## Broadcasting"
   ],
   "cell_type": "markdown",
   "metadata": {}
  },
  {
   "cell_type": "code",
   "execution_count": 13,
   "metadata": {},
   "outputs": [
    {
     "output_type": "stream",
     "name": "stdout",
     "text": [
      "1 Dimensional Vector : \n",
      "[1 2 3]\n",
      "\n",
      "2 Dimensional Vector : \n",
      "[[1]\n",
      " [2]]\n",
      "\n",
      "Matrix : \n",
      "[[1 2 3]\n",
      " [4 5 6]]\n"
     ]
    }
   ],
   "source": [
    "vector_1D = np.array([1,2,3])\n",
    "vector_2D = np.array([[1],[2]])\n",
    "matrix = np.array([[1,2,3],[4,5,6]])\n",
    "print(f'1 Dimensional Vector : \\n{vector_1D}\\n')\n",
    "print(f'2 Dimensional Vector : \\n{vector_2D}\\n')\n",
    "print(f'Matrix : \\n{matrix}')"
   ]
  },
  {
   "cell_type": "code",
   "execution_count": 14,
   "metadata": {},
   "outputs": [
    {
     "output_type": "stream",
     "name": "stdout",
     "text": [
      "[[2 4 6]\n",
      " [5 7 9]]\n"
     ]
    }
   ],
   "source": [
    "print(vector_1D + matrix)"
   ]
  },
  {
   "cell_type": "code",
   "execution_count": 15,
   "metadata": {},
   "outputs": [
    {
     "output_type": "stream",
     "name": "stdout",
     "text": [
      "[[2 4 6]\n [5 7 9]]\n"
     ]
    }
   ],
   "source": [
    "print(np.add(vector_1D, matrix))"
   ]
  },
  {
   "cell_type": "code",
   "execution_count": 16,
   "metadata": {},
   "outputs": [
    {
     "output_type": "stream",
     "name": "stdout",
     "text": [
      "[[2 3 4]\n [6 7 8]]\n"
     ]
    }
   ],
   "source": [
    "print(np.add(vector_2D, matrix))"
   ]
  },
  {
   "source": [
    "# Type Casting"
   ],
   "cell_type": "markdown",
   "metadata": {}
  },
  {
   "cell_type": "code",
   "execution_count": 17,
   "metadata": {},
   "outputs": [
    {
     "output_type": "stream",
     "name": "stdout",
     "text": [
      "[[2. 4. 6.]\n [5. 7. 9.]]\n"
     ]
    }
   ],
   "source": [
    "print(np.add(matrix, vector_1D, dtype = np.float))"
   ]
  },
  {
   "source": [
    "# Axis\n",
    "\n",
    "Applying a Function along An Axis\n",
    "\n",
    "axis = 0 | Each Column of the Array\n",
    "\n",
    "axis = 1 | Each Row of the Array"
   ],
   "cell_type": "markdown",
   "metadata": {}
  },
  {
   "cell_type": "code",
   "execution_count": 18,
   "metadata": {},
   "outputs": [
    {
     "output_type": "stream",
     "name": "stdout",
     "text": [
      "[[1 2 3]\n",
      " [4 5 6]]\n",
      "\n",
      "Axis 0 | Each Column \n",
      "[5 7 9]\n",
      "\n",
      "Axis 1 | Each Row \n",
      "[ 6 15]\n"
     ]
    }
   ],
   "source": [
    "print(f'{matrix}\\n')\n",
    "print(f'Axis 0 | Each Column \\n{np.sum(matrix, axis = 0)}\\n')\n",
    "print(f'Axis 1 | Each Row \\n{np.sum(matrix, axis = 1)}')"
   ]
  },
  {
   "source": [
    "# ndarray"
   ],
   "cell_type": "markdown",
   "metadata": {}
  },
  {
   "cell_type": "code",
   "execution_count": 19,
   "metadata": {},
   "outputs": [
    {
     "output_type": "stream",
     "name": "stdout",
     "text": [
      "0 Dimension Array 1\n\nShape of 0 Dimension Array ()\n"
     ]
    }
   ],
   "source": [
    "# 0 Dimensional Array\n",
    "a = np.array(1)\n",
    "\n",
    "print(f'0 Dimension Array {a}\\n')\n",
    "print(f'Shape of 0 Dimension Array {a.shape}') # Single Point in N Dimensional Space."
   ]
  },
  {
   "cell_type": "code",
   "execution_count": 20,
   "metadata": {},
   "outputs": [
    {
     "output_type": "stream",
     "name": "stdout",
     "text": [
      "1D Array [1 2 3]\n\nShape of 1D Array (3,)\n"
     ]
    }
   ],
   "source": [
    "# 1D Array\n",
    "a = np.array([1,2,3])\n",
    "\n",
    "print(f'1D Array {a}\\n')\n",
    "print(f'Shape of 1D Array {a.shape}') # Number of Elements in An 1D Array.\n",
    "\n",
    "# Number of Points Located on a Line (Geometric Space)"
   ]
  },
  {
   "cell_type": "code",
   "execution_count": 21,
   "metadata": {},
   "outputs": [
    {
     "output_type": "stream",
     "name": "stdout",
     "text": [
      "2D Array [[1 2 3]\n [4 5 6]\n [7 8 9]]\n\nShape of 2D Array (3, 3)\n"
     ]
    }
   ],
   "source": [
    "# 2D Array\n",
    "\n",
    "a = np.array([[1,2,3],[4,5,6],[7,8,9]])\n",
    "\n",
    "print(f'2D Array {a}\\n')\n",
    "print(f'Shape of 2D Array {a.shape}') # 3 Rows and 3 Columns"
   ]
  },
  {
   "source": [
    "# Slicing"
   ],
   "cell_type": "markdown",
   "metadata": {}
  },
  {
   "cell_type": "code",
   "execution_count": 22,
   "metadata": {},
   "outputs": [
    {
     "output_type": "stream",
     "name": "stdout",
     "text": [
      "[[1 2 3 1]\n [4 5 6 0]\n [7 8 9 1]\n [0 1 0 1]]\n"
     ]
    }
   ],
   "source": [
    "a = np.array([[1,2,3,1],[4,5,6,0],[7,8,9,1],[0,1,0,1]])\n",
    "print(a)"
   ]
  },
  {
   "cell_type": "code",
   "execution_count": 23,
   "metadata": {},
   "outputs": [
    {
     "output_type": "stream",
     "name": "stdout",
     "text": [
      "[[1 0 1 0]\n [1 9 8 7]\n [0 6 5 4]\n [1 3 2 1]]\n"
     ]
    }
   ],
   "source": [
    "print(a[-1::-1,::-1])"
   ]
  },
  {
   "cell_type": "code",
   "execution_count": 24,
   "metadata": {},
   "outputs": [
    {
     "output_type": "stream",
     "name": "stdout",
     "text": [
      "1\n"
     ]
    }
   ],
   "source": [
    "print(a[0:1,0:1].squeeze()) # To get the Value in Int"
   ]
  },
  {
   "cell_type": "code",
   "execution_count": 25,
   "metadata": {},
   "outputs": [
    {
     "output_type": "stream",
     "name": "stdout",
     "text": [
      "1\n"
     ]
    }
   ],
   "source": [
    "print(np.squeeze(a[0:1,0:1]))"
   ]
  },
  {
   "cell_type": "code",
   "execution_count": 26,
   "metadata": {},
   "outputs": [
    {
     "output_type": "stream",
     "name": "stdout",
     "text": [
      "<class 'numpy.ndarray'>\n"
     ]
    }
   ],
   "source": [
    "print(type(a[0:1,0:1].squeeze()))"
   ]
  },
  {
   "cell_type": "code",
   "execution_count": 27,
   "metadata": {},
   "outputs": [
    {
     "output_type": "stream",
     "name": "stdout",
     "text": [
      "()\n"
     ]
    }
   ],
   "source": [
    "print(np.squeeze(a[0:1,0:1]).shape)"
   ]
  }
 ]
}